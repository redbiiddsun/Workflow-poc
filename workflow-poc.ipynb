{
 "cells": [
  {
   "cell_type": "markdown",
   "metadata": {},
   "source": [
    "# Installation\n",
    "All required packages need to be installed before running the code"
   ]
  },
  {
   "cell_type": "code",
   "execution_count": null,
   "metadata": {},
   "outputs": [],
   "source": [
    "# For OCR\n",
    "%pip install opencv-python\n",
    "%pip install pytesseract\n",
    "%pip install numpy\n",
    "%pip install matplotlib\n",
    "\n",
    "# For Translation\n",
    "%pip install transformers\n",
    "%pip install torch torchvision"
   ]
  },
  {
   "cell_type": "markdown",
   "metadata": {},
   "source": [
    "# Translation"
   ]
  },
  {
   "cell_type": "code",
   "execution_count": null,
   "metadata": {},
   "outputs": [],
   "source": [
    "from transformers import AutoTokenizer, AutoModelForSeq2SeqLM, pipeline\n",
    "\n",
    "# ------- MODEL SELECTION -------\n",
    "# Choose one of the following options to specify the model to use:\n",
    "\n",
    "# Option 1: Use an online model source\n",
    "# Uncomment the line below to download and use the online model\n",
    "MODEL_NAME = \"wtarit/nllb-600M-th-en\"\n",
    "\n",
    "# Option 2: Use a local model\n",
    "# Uncomment the line below to specify the path to your local model\n",
    "# MODEL_NAME = \"path/to/your/model\"\n",
    "\n",
    "# -------------------------------\n",
    "\n",
    "model = AutoModelForSeq2SeqLM.from_pretrained(MODEL_NAME)\n",
    "\n",
    "tokenizer = AutoTokenizer.from_pretrained(MODEL_NAME)\n",
    "\n",
    "device = 0\n",
    "\n",
    "translation_pipeline = pipeline(\n",
    "    \"translation\",\n",
    "    model=model,\n",
    "    tokenizer=tokenizer,\n",
    "    src_lang=\"tha_Thai\",\n",
    "    tgt_lang=\"eng_Latn\",\n",
    "    max_length=400,\n",
    "    device=device\n",
    ")\n",
    "\n",
    "# HERE IS THE EXAMPLE OF HOW TO USE THE TRANSLATION PIPELINE\n",
    "\n",
    "# result = translation_pipeline(\"ข้อมูลส่วนตัว คํานําหน้า๐ นาย 0๐ นาง 0๐ นางสาว ชื่อ-นามสกุล * บัตรประจําตัวประชาชน [ใส่เฉพาะตัวเลข] Number  \")\n",
    "\n",
    "# print(result[0]['translation_text'])\n",
    "\n",
    "# Personal Information Prefix  Mr 0 Mrs 0 Miss Name-Family * Identity Card [Enter Only Numbers] Number "
   ]
  }
 ],
 "metadata": {
  "kernelspec": {
   "display_name": "venv",
   "language": "python",
   "name": "python3"
  },
  "language_info": {
   "codemirror_mode": {
    "name": "ipython",
    "version": 3
   },
   "file_extension": ".py",
   "mimetype": "text/x-python",
   "name": "python",
   "nbconvert_exporter": "python",
   "pygments_lexer": "ipython3",
   "version": "3.12.2"
  }
 },
 "nbformat": 4,
 "nbformat_minor": 2
}
